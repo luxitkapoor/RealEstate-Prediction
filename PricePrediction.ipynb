{
 "cells": [
  {
   "cell_type": "markdown",
   "metadata": {},
   "source": [
    "# Real Estate Price Prediction\n",
    "Uses data from the following competition on Kaggle: https://www.kaggle.com/c/house-prices-advanced-regression-techniques"
   ]
  },
  {
   "cell_type": "code",
   "execution_count": null,
   "metadata": {
    "_cell_guid": "b1076dfc-b9ad-4769-8c92-a6c4dae69d19",
    "_uuid": "8f2839f25d086af736a60e9eeb907d3b93b6e0e5",
    "collapsed": true
   },
   "outputs": [],
   "source": [
    "\n",
    "\n",
    "import numpy as np \n",
    "import pandas as pd \n",
    "from sklearn.preprocessing import Imputer\n",
    "from sklearn.model_selection import train_test_split\n",
    "from xgboost import XGBRegressor\n",
    "\n",
    "\n",
    "\n",
    "import os\n",
    "trainData = pd.read_csv('Data Source') #Add your data source\n",
    "testData = pd.read_csv('Data Source')\n",
    "\n",
    "label = trainData.SalePrice\n",
    "predictors = trainData.drop(['SalePrice'], axis=1).select_dtypes(exclude = ['object'])\n",
    "\n",
    "#Imputing Missing Values\n",
    "myImputer = Imputer()\n",
    "xTrain, xTest, yTrain, yTest = train_test_split(predictors,label,random_state=1)\n",
    "xTrain1 = myImputer.fit_transform(xTrain)\n",
    "xTest1 = myImputer.fit_transform(xTest)\n",
    "\n",
    "#Fitting the model\n",
    "model = XGBRegressor(n_estimators = 1000, learning_rate = 0.05)\n",
    "model.fit(xTrain1,yTrain,verbose= False, early_stopping_rounds = 5, eval_set=[(xTest1,yTest)])\n",
    "\n",
    "#Generating Predictions\n",
    "test = testData.select_dtypes(exclude = ['object'])\n",
    "refinedTest = myImputer.fit_transform(test)\n",
    "preds = model.predict(refinedTest)\n",
    "\n",
    "\n",
    "mySub = pd.DataFrame({'Id':testData.Id, 'SalePrice': preds})\n",
    "mySub.to_csv('new.csv',index = False)\n",
    "\n"
   ]
  }
 ],
 "metadata": {
  "kernelspec": {
   "display_name": "Python 3",
   "language": "python",
   "name": "python3"
  },
  "language_info": {
   "codemirror_mode": {
    "name": "ipython",
    "version": 3
   },
   "file_extension": ".py",
   "mimetype": "text/x-python",
   "name": "python",
   "nbconvert_exporter": "python",
   "pygments_lexer": "ipython3",
   "version": "3.6.4"
  }
 },
 "nbformat": 4,
 "nbformat_minor": 1
}
